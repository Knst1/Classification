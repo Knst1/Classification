{
 "cells": [
  {
   "cell_type": "markdown",
   "metadata": {},
   "source": [
    "Требуется классифицировать список абонентов телефонного оператора по переменной Churn. Набор данных содержит информацию о 3333 абонентах. Часть данных будет использоваться для обучения, часть для тестирования. Файл содержит 21 переменную для каждого абонента.\n",
    "<table>\n",
    "<thead>\n",
    "<tr>\n",
    "<th>Название</th>\n",
    "<th>Описание</th>\n",
    "</tr>\n",
    "</thead>\n",
    "<tbody>\n",
    "<tr>\n",
    "<td><strong>State</strong></td>\n",
    "<td>Буквенный код штата</td>\n",
    "</tr>\n",
    "<tr>\n",
    "<td><strong>Account length</strong></td>\n",
    "<td>Как долго клиент обслуживается компанией</td>\n",
    "</tr>\n",
    "<tr>\n",
    "<td><strong>Area code</strong></td>\n",
    "<td>Префикс номера телефона</td>\n",
    "</tr>\n",
    "<tr>\n",
    "<td><strong>Phone number</strong></td>\n",
    "<td>Номер телефона</td>\n",
    "</tr>\n",
    "<tr>\n",
    "<td><strong>International plan</strong></td>\n",
    "<td>Международный роуминг (подключен/не подключен)</td>\n",
    "</tr>\n",
    "<tr>\n",
    "<td><strong>Voice mail plan</strong></td>\n",
    "<td>Голосовая почта (подключена/не подключена)</td>\n",
    "</tr>\n",
    "<tr>\n",
    "<td><strong>Number vmail messages</strong></td>\n",
    "<td>Количество голосовых сообщений</td>\n",
    "</tr>\n",
    "<tr>\n",
    "<td><strong>Total day minutes</strong></td>\n",
    "<td>Общая длительность разговоров днем</td>\n",
    "</tr>\n",
    "<tr>\n",
    "<td><strong>Total day calls</strong></td>\n",
    "<td>Общее количество звонков днем</td>\n",
    "</tr>\n",
    "<tr>\n",
    "<td><strong>Total day charge</strong></td>\n",
    "<td>Общая сумма оплаты за услуги днем</td>\n",
    "</tr>\n",
    "<tr>\n",
    "<td><strong>Total eve minutes</strong></td>\n",
    "<td>Общая длительность разговоров вечером</td>\n",
    "</tr>\n",
    "<tr>\n",
    "<td><strong>Total eve calls</strong></td>\n",
    "<td>Общее количество звонков вечером</td>\n",
    "</tr>\n",
    "<tr>\n",
    "<td><strong>Total eve charge</strong></td>\n",
    "<td>Общая сумма оплаты за услуги вечером</td>\n",
    "</tr>\n",
    "<tr>\n",
    "<td><strong>Total night minutes</strong></td>\n",
    "<td>Общая длительность разговоров ночью</td>\n",
    "</tr>\n",
    "<tr>\n",
    "<td><strong>Total night calls</strong></td>\n",
    "<td>Общее количество звонков ночью</td>\n",
    "</tr>\n",
    "<tr>\n",
    "<td><strong>Total night charge</strong></td>\n",
    "<td>Общая сумма оплаты за услуги ночью</td>\n",
    "</tr>\n",
    "<tr>\n",
    "<td><strong>Total intl minutes</strong></td>\n",
    "<td>Общая длительность международных разговоров</td>\n",
    "</tr>\n",
    "<tr>\n",
    "<td><strong>Total intl calls</strong></td>\n",
    "<td>Общее количество международных разговоров</td>\n",
    "</tr>\n",
    "<tr>\n",
    "<td><strong>Total intl charge</strong></td>\n",
    "<td>Общая сумма оплаты за международные разговоры</td>\n",
    "</tr>\n",
    "<tr>\n",
    "<td><strong>Customer service calls</strong></td>\n",
    "<td>Число обращений в сервисный центр</td>\n",
    "</tr>\n",
    "<tr>\n",
    "<td><strong>Churn</strong></td>\n",
    "<td>Признак оттока (потеря клиента/клиент пока остаётся)</td>\n",
    "</tr>\n",
    "</tbody>\n",
    "</table>"
   ]
  },
  {
   "cell_type": "code",
   "execution_count": 1,
   "metadata": {},
   "outputs": [],
   "source": [
    "import pandas as pd\n",
    "from sklearn.model_selection import train_test_split\n",
    "from sklearn.tree import DecisionTreeClassifier, export_graphviz\n",
    "from sklearn.model_selection import GridSearchCV, cross_val_score\n",
    "from sklearn.metrics import accuracy_score\n",
    "import warnings\n",
    "warnings.filterwarnings(action=\"ignore\")"
   ]
  },
  {
   "cell_type": "markdown",
   "metadata": {},
   "source": [
    "Приведение данных к числовому виду и удаление ненужных при обучении данных"
   ]
  },
  {
   "cell_type": "code",
   "execution_count": 2,
   "metadata": {},
   "outputs": [],
   "source": [
    "df = pd.read_csv('telecom_churn.csv')\n",
    "df['international plan'] = pd.factorize(df['international plan'])[0]\n",
    "df['voice mail plan'] = pd.factorize(df['voice mail plan'])[0]\n",
    "df['churn'] = df['churn'].astype('int')\n",
    "states = df['state']\n",
    "y = df['churn']\n",
    "df.drop(['state', 'churn', 'phone number', 'area code'], axis=1, inplace=True)"
   ]
  },
  {
   "cell_type": "markdown",
   "metadata": {},
   "source": [
    "Создание дерева решений"
   ]
  },
  {
   "cell_type": "code",
   "execution_count": 3,
   "metadata": {},
   "outputs": [
    {
     "data": {
      "text/plain": [
       "GridSearchCV(cv=5, error_score='raise-deprecating',\n",
       "             estimator=DecisionTreeClassifier(class_weight=None,\n",
       "                                              criterion='gini', max_depth=None,\n",
       "                                              max_features=None,\n",
       "                                              max_leaf_nodes=None,\n",
       "                                              min_impurity_decrease=0.0,\n",
       "                                              min_impurity_split=None,\n",
       "                                              min_samples_leaf=1,\n",
       "                                              min_samples_split=2,\n",
       "                                              min_weight_fraction_leaf=0.0,\n",
       "                                              presort=False, random_state=None,\n",
       "                                              splitter='best'),\n",
       "             iid='warn', n_jobs=None,\n",
       "             param_grid={'max_depth': range(2, 15),\n",
       "                         'max_features': range(1, 17)},\n",
       "             pre_dispatch='2*n_jobs', refit=True, return_train_score=False,\n",
       "             scoring=None, verbose=0)"
      ]
     },
     "execution_count": 3,
     "metadata": {},
     "output_type": "execute_result"
    }
   ],
   "source": [
    "X_train, X_test, y_train, y_test = train_test_split(df.values, y, test_size=0.3)\n",
    "tree = DecisionTreeClassifier()\n",
    "tree_params = {'max_depth': range(2, 15), 'max_features': range(1, 17)}\n",
    "tree_grid = GridSearchCV(tree, tree_params, cv=5)\n",
    "tree_grid.fit(X_train, y_train)"
   ]
  },
  {
   "cell_type": "markdown",
   "metadata": {},
   "source": [
    "Лучшие глубина дерева и количество признаков для данных условий"
   ]
  },
  {
   "cell_type": "code",
   "execution_count": 4,
   "metadata": {},
   "outputs": [
    {
     "data": {
      "text/plain": [
       "{'max_depth': 6, 'max_features': 16}"
      ]
     },
     "execution_count": 4,
     "metadata": {},
     "output_type": "execute_result"
    }
   ],
   "source": [
    "tree_grid.best_params_"
   ]
  },
  {
   "cell_type": "code",
   "execution_count": 5,
   "metadata": {},
   "outputs": [
    {
     "data": {
      "text/plain": [
       "0.9455636519502786"
      ]
     },
     "execution_count": 5,
     "metadata": {},
     "output_type": "execute_result"
    }
   ],
   "source": [
    "tree_grid.best_score_"
   ]
  },
  {
   "cell_type": "code",
   "execution_count": 13,
   "metadata": {},
   "outputs": [
    {
     "data": {
      "text/plain": [
       "0.945"
      ]
     },
     "execution_count": 13,
     "metadata": {},
     "output_type": "execute_result"
    }
   ],
   "source": [
    "accuracy_score(y_test, tree_grid.predict(X_test))"
   ]
  },
  {
   "cell_type": "markdown",
   "metadata": {},
   "source": [
    "Визуализация дерева решений"
   ]
  },
  {
   "cell_type": "code",
   "execution_count": 26,
   "metadata": {},
   "outputs": [],
   "source": [
    "export_graphviz(tree_grid.best_estimator_, feature_names=df.columns, out_file='churn_tree.gv', filled=True)\n",
    "!dot -Tpng churn_tree.gv -o churn_tree.png"
   ]
  },
  {
   "cell_type": "markdown",
   "metadata": {},
   "source": [
    "<img src=\"churn_tree.png\">"
   ]
  }
 ],
 "metadata": {
  "celltoolbar": "Raw Cell Format",
  "kernelspec": {
   "display_name": "Python 3",
   "language": "python",
   "name": "python3"
  },
  "language_info": {
   "codemirror_mode": {
    "name": "ipython",
    "version": 3
   },
   "file_extension": ".py",
   "mimetype": "text/x-python",
   "name": "python",
   "nbconvert_exporter": "python",
   "pygments_lexer": "ipython3",
   "version": "3.7.4"
  }
 },
 "nbformat": 4,
 "nbformat_minor": 4
}
